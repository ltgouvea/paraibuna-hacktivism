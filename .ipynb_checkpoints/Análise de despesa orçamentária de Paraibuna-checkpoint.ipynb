{
 "cells": [
  {
   "cell_type": "code",
   "execution_count": 35,
   "metadata": {},
   "outputs": [
    {
     "name": "stdout",
     "output_type": "stream",
     "text": [
      "FOLHA DE PAGAMENTO                                    116\n",
      "INSTITUTO DE PREVIDENCIA DO MUNICIPIO DE PARAIBUNA     22\n",
      "INSTITUTO NACIONAL DO SEGURO SOCIAL                    10\n",
      "THIPLAN COMERCIAL LTDA EPP                              9\n",
      "DEZOTTI COM. DE FERRAMENTAS E FERRAGENS LTDA ME         7\n",
      "EVERTON WILLIAN CASSIANO DE SOUZA                       7\n",
      "MARIA APARECIDA DA SILVA FORTUNATO-CONSTRUCOES-EPP      6\n",
      "JOSE MAURO SANTOS BARBOSA                               6\n",
      "LC COMERCIAL EIRELI                                     5\n",
      "KLEBER DA SILVA GUIMARAES                               5\n",
      "ORLA DISTRIBUIDORA DE PRODUTOS EIRELI                   5\n",
      "RONEVALTER HONORATO DA CRUZ                             5\n",
      "PAULO ROBERTO MOREIRA                                   5\n",
      "CAUANA COMERCIO DE PRODUTOS ALIMENTICIOS LTDA           5\n",
      "UNIMAQUINAS FERRAMENTAS E EQUIPAMENTOS LTDA - ME        5\n",
      "J C B MATERIAIS LTDA ME                                 5\n",
      "ANANIAS AUGUSTO DE ALVARENGA                            5\n",
      "NELSON MEDEIROS DOS SANTOS                              5\n",
      "ANDRE ALEXANDRE DO PRADO                                5\n",
      "EDER DE SOUZA LEODORO                                   5\n",
      "HAMILTON COELHO                                         5\n",
      "LUANA APARECIDA GUSMAO DA SILVA                         4\n",
      "L. ROBERTO DA SILVA MECANICA                            4\n",
      "NUTRICIONALE COMERCIO DE ALIMENTOS LTDA                 4\n",
      "RENATO LUIZ LOBO                                        4\n",
      "UBADESKLIMP COMERCIAL DISTRIBUIDORA LTDA ME             4\n",
      "COMERCIAL CIRURGICA RIOCLARENSE LTDA                    4\n",
      "ANTONIO CARLOS DE ASSIS                                 4\n",
      "CIRURGICA SAO JOSE LTDA                                 4\n",
      "CAEPA -COMPANHIA DE AGUA E ESGOTO DE PARAIBUNA S/A      4\n",
      "                                                     ... \n",
      "CASA DOS BEBEDOUROS LTDA                                1\n",
      "CONFEDERACAO NACIONAL DOS MUNICIPIOS                    1\n",
      "JOSE MAURICIO DE SIQUEIRA                               1\n",
      "ROSELI CORREA DOS SANTOS                                1\n",
      "BRUNO LOPES SANTOS                                      1\n",
      "CARLOS CESAR GUIMARAES DE CARVALHO                      1\n",
      "JOSE CARLOS DA SILVA                                    1\n",
      "CARLOS ALBERTO APARECIDO DOS SANTOS                     1\n",
      "CIRURGICA UNIAO LTDA                                    1\n",
      "CENTRO DE INTEGRACAO EMPRESA ESCOLA CIEE                1\n",
      "CLARO S.A.                                              1\n",
      "GENI MARTA MIRANDA                                      1\n",
      "ELAINE APARECIDA DOS SANTOS                             1\n",
      "PORTO CONSULT- ASSESSORIA E CONSULTORIA LTDA - ME       1\n",
      "TEREZINHA ROSA DOS SANTOS                               1\n",
      "MARIA NEIDE DE SOUZA                                    1\n",
      "ROBERTO LEAL RAMOS                                      1\n",
      "CODIVAP - CONSELHO DE DESENVOLVIMENTO DO VALE DO P      1\n",
      "CELINA DE ANDRADE                                       1\n",
      "G. O. AMORIM PRODUCOES                                  1\n",
      "CARLA EDUARDA BINDER SERRA 37235341807                  1\n",
      "ESTADO DA BAHIA                                         1\n",
      "CASA DAS PLACAS EKT LTDA ME                             1\n",
      "FABIANA DE SOUZA CAMARGO DINIZ                          1\n",
      "ASSOCIACAO VALEPARAIBANA DE XADREZ                      1\n",
      "LEONARDO HENRIQUE PEREIRA                               1\n",
      "JOELCIO BARBOSA DE JESUS                                1\n",
      "ANA CAROLINA DE OLIVEIRA SANTOS                         1\n",
      "CAMILLE CRISTINA DE MIRANDA FONSECA                     1\n",
      "LIBERTY SEGUROS S/A                                     1\n",
      "Name: Fornecedor, Length: 184, dtype: int64\n"
     ]
    }
   ],
   "source": [
    "import numpy as np;\n",
    "import pandas as pd;\n",
    "\n",
    "my_data = np.genfromtxt('./paraibuna/despesa_orcamentaria_maio18.csv', delimiter=';')\n",
    "\n",
    "despesaOrcamentaria = pd.read_csv('./paraibuna/despesa_orcamentaria_maio18.csv', ';');\n",
    "\n",
    "fornecedores = despesaOrcamentaria['Fornecedor']\n",
    "\n",
    "\n",
    "print(fornecedores.value_counts());\n"
   ]
  }
 ],
 "metadata": {
  "kernelspec": {
   "display_name": "Python 3",
   "language": "python",
   "name": "python3"
  },
  "language_info": {
   "codemirror_mode": {
    "name": "ipython",
    "version": 3
   },
   "file_extension": ".py",
   "mimetype": "text/x-python",
   "name": "python",
   "nbconvert_exporter": "python",
   "pygments_lexer": "ipython3",
   "version": "3.6.4"
  }
 },
 "nbformat": 4,
 "nbformat_minor": 2
}
